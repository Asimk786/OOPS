{
 "cells": [
  {
   "cell_type": "code",
   "execution_count": null,
   "id": "0cb6fbb8-7581-42db-857e-bfb3a2c50e16",
   "metadata": {},
   "outputs": [],
   "source": [
    "#Polymorphism\n",
    ">one name many forms\n",
    ">it is the ability of an entity to show multiple behaviours of same operation\n",
    ">in python,there are 2 implemntations of polymorphism\n",
    "    >method overriding\n",
    "    >operator overloading"
   ]
  },
  {
   "cell_type": "code",
   "execution_count": 1,
   "id": "562555d1-25ec-4267-89e5-94fca50758c7",
   "metadata": {},
   "outputs": [
    {
     "name": "stdout",
     "output_type": "stream",
     "text": [
      "this is m1 in A\n",
      "this is m2 in B\n"
     ]
    }
   ],
   "source": [
    "#method overriding\n",
    "class A:\n",
    "    def m1(self):\n",
    "        print(\"this is m1 in A\")\n",
    "    def m2(self):\n",
    "        print(\"this is m2 in A\")\n",
    "        \n",
    "class B(A):\n",
    "    def m2(self):\n",
    "        print(\"this is m2 in B\")\n",
    "        \n",
    "obj=B()\n",
    "obj.m1()\n",
    "obj.m2()\n",
    "#MRO"
   ]
  },
  {
   "cell_type": "code",
   "execution_count": 3,
   "id": "72135ac7-1633-44f7-a8cc-36fd762afb56",
   "metadata": {},
   "outputs": [
    {
     "name": "stdout",
     "output_type": "stream",
     "text": [
      "this is m1 in A\n",
      "this is m2 in B\n",
      "this is m2 in A\n"
     ]
    }
   ],
   "source": [
    "#method overriding\n",
    "class A:\n",
    "    def m1(self):\n",
    "        print(\"this is m1 in A\")\n",
    "    def m2(self):\n",
    "        print(\"this is m2 in A\")\n",
    "        \n",
    "class B(A):\n",
    "    def m2(self):\n",
    "        print(\"this is m2 in B\")\n",
    "        super().m2()\n",
    "        \n",
    "obj=B()\n",
    "obj.m1()\n",
    "obj.m2()\n",
    "#MRO"
   ]
  },
  {
   "cell_type": "code",
   "execution_count": 11,
   "id": "5890f3d6-ac06-490e-af4b-f8f4287483c0",
   "metadata": {},
   "outputs": [
    {
     "name": "stdout",
     "output_type": "stream",
     "text": [
      "2 3\n",
      "4 5\n",
      "hi\n"
     ]
    }
   ],
   "source": [
    "#operator overloading\n",
    "#>definition of an operator for custom objects\n",
    "class point:\n",
    "    def __init__(self,a,b):\n",
    "        self.x=a\n",
    "        self.y=b\n",
    "\n",
    "    def __add__(self,other):\n",
    "        return \"hi\"\n",
    "        \n",
    "p1=point(2,3)\n",
    "p2=point(4,5)\n",
    "print(p1.x,p1.y)\n",
    "print(p2.x,p2.y)\n",
    "print(p1+p2) #p1.__add__(p1,p2)"
   ]
  },
  {
   "cell_type": "code",
   "execution_count": 16,
   "id": "01ae65f6-604c-4987-aee8-b0ef5f42423e",
   "metadata": {},
   "outputs": [
    {
     "name": "stdout",
     "output_type": "stream",
     "text": [
      "2 3\n",
      "4 5\n",
      "(6, 8)\n",
      "(8, 8)\n"
     ]
    }
   ],
   "source": [
    "#operator overloading\n",
    "#>definition of an operator for custom objects\n",
    "class point:\n",
    "    def __init__(self,a,b):\n",
    "        self.x=a\n",
    "        self.y=b\n",
    "\n",
    "    def __add__(self,other):\n",
    "        return self.x+other.x,self.y+other.y\n",
    "    \n",
    "    def __mul__(self,other):\n",
    "        return self.x*other.x,self.y+other.y\n",
    "    \n",
    "p1=point(2,3)\n",
    "p2=point(4,5)\n",
    "print(p1.x,p1.y)\n",
    "print(p2.x,p2.y)\n",
    "print(p1+p2) #p1.__add__(p1,p2)\n",
    "print(p1*p2)"
   ]
  },
  {
   "cell_type": "code",
   "execution_count": null,
   "id": "10356cd2-0ec1-4e85-a8a8-a3e01711e341",
   "metadata": {},
   "outputs": [],
   "source": [
    "#Nested/Inner class\n",
    "#>class defined inside block of other class\n",
    "\n",
    "class car:            #top level/outer class\n",
    "    pass\n",
    "\n",
    "    class engine:    #nested class\n",
    "        pass\n",
    "    \n",
    "    \n",
    "class emp:\n",
    "    pass\n",
    "\n",
    "    class emp_address:\n",
    "        pass"
   ]
  },
  {
   "cell_type": "code",
   "execution_count": 21,
   "id": "6d89a25a-b8dc-4d5a-bfba-74364b844cf4",
   "metadata": {},
   "outputs": [
    {
     "name": "stdout",
     "output_type": "stream",
     "text": [
      "show in A\n",
      "disp in B\n"
     ]
    }
   ],
   "source": [
    "class A:\n",
    "    def show(self):\n",
    "        print(\"show in A\")\n",
    "        \n",
    "    class B:\n",
    "        def disp(self):\n",
    "            print(\"disp in B\")\n",
    "            \n",
    "            \n",
    "a=A()\n",
    "a.show()\n",
    "#a.disp()\n",
    "\n",
    "#b=B()    #error\n",
    "#b=A.B()\n",
    "b=a.B()\n",
    "b.disp()"
   ]
  },
  {
   "cell_type": "code",
   "execution_count": null,
   "id": "5f74441d-ad25-4436-80e8-99b08ddf1836",
   "metadata": {},
   "outputs": [],
   "source": [
    "#abstraction\n",
    ">defining abstract classes\n",
    ">abstract class is a class that can not be instantiated(object creation)\n",
    ">2 rules for defining abstract class\n",
    "    >ABC as parent class\n",
    "    >contains atleast 1 abstract method\n",
    ">it defines standards for concrete classes"
   ]
  },
  {
   "cell_type": "code",
   "execution_count": 22,
   "id": "8856e136-31b1-46c2-a820-26aaee368bf6",
   "metadata": {},
   "outputs": [
    {
     "ename": "TypeError",
     "evalue": "Can't instantiate abstract class A with abstract method show",
     "output_type": "error",
     "traceback": [
      "\u001b[1;31m---------------------------------------------------------------------------\u001b[0m",
      "\u001b[1;31mTypeError\u001b[0m                                 Traceback (most recent call last)",
      "\u001b[1;32m~\\AppData\\Local\\Temp\\ipykernel_5944\\392458840.py\u001b[0m in \u001b[0;36m<module>\u001b[1;34m\u001b[0m\n\u001b[0;32m      6\u001b[0m         \u001b[1;32mpass\u001b[0m\u001b[1;33m\u001b[0m\u001b[1;33m\u001b[0m\u001b[0m\n\u001b[0;32m      7\u001b[0m \u001b[1;33m\u001b[0m\u001b[0m\n\u001b[1;32m----> 8\u001b[1;33m \u001b[0mobj\u001b[0m\u001b[1;33m=\u001b[0m\u001b[0mA\u001b[0m\u001b[1;33m(\u001b[0m\u001b[1;33m)\u001b[0m\u001b[1;33m\u001b[0m\u001b[1;33m\u001b[0m\u001b[0m\n\u001b[0m",
      "\u001b[1;31mTypeError\u001b[0m: Can't instantiate abstract class A with abstract method show"
     ]
    }
   ],
   "source": [
    "from abc import ABC,abstractmethod\n",
    "class A(ABC):\n",
    "    \n",
    "    @abstractmethod\n",
    "    def show(self):\n",
    "        pass\n",
    "    \n",
    "obj=A()"
   ]
  },
  {
   "cell_type": "code",
   "execution_count": 28,
   "id": "fddfb6f1-7ae9-41b2-8282-c34affee84fa",
   "metadata": {},
   "outputs": [
    {
     "name": "stdout",
     "output_type": "stream",
     "text": [
      "pi*r*r\n",
      "l*b\n"
     ]
    }
   ],
   "source": [
    "class shape(ABC):\n",
    "    \n",
    "    @abstractmethod\n",
    "    def area(self):\n",
    "        pass\n",
    "  \n",
    "\n",
    "class Circle(shape):\n",
    "    def area(self):\n",
    "        print(\"pi*r*r\")\n",
    "\n",
    "obj=Circle()\n",
    "obj.area()\n",
    "\n",
    "class rectange(shape):\n",
    "    def area(self):\n",
    "        print(\"l*b\")\n",
    "        \n",
    "obj=rectange()\n",
    "obj.area()"
   ]
  },
  {
   "cell_type": "code",
   "execution_count": null,
   "id": "395deb2f-c5ef-420c-a997-ec03f8134a36",
   "metadata": {},
   "outputs": [],
   "source": []
  }
 ],
 "metadata": {
  "kernelspec": {
   "display_name": "Python 3 (ipykernel)",
   "language": "python",
   "name": "python3"
  },
  "language_info": {
   "codemirror_mode": {
    "name": "ipython",
    "version": 3
   },
   "file_extension": ".py",
   "mimetype": "text/x-python",
   "name": "python",
   "nbconvert_exporter": "python",
   "pygments_lexer": "ipython3",
   "version": "3.9.13"
  }
 },
 "nbformat": 4,
 "nbformat_minor": 5
}
